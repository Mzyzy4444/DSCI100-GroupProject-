{
 "cells": [
  {
   "cell_type": "markdown",
   "id": "72c119dd-5195-4aa3-a1a8-0765d88bf40e",
   "metadata": {},
   "source": [
    "Wine Quality "
   ]
  },
  {
   "cell_type": "code",
   "execution_count": 1,
   "id": "df122e9d-4ba7-488a-8630-58d17b2ee9c8",
   "metadata": {},
   "outputs": [
    {
     "data": {
      "text/plain": [
       "1111112"
      ]
     },
     "execution_count": 1,
     "metadata": {},
     "output_type": "execute_result"
    }
   ],
   "source": [
    "1111111 + 1\n"
   ]
  },
  {
   "cell_type": "code",
   "execution_count": null,
   "id": "b3fcae89-d766-4348-83a3-fb2a95e81fb4",
   "metadata": {},
   "outputs": [],
   "source": []
  }
 ],
 "metadata": {
  "kernelspec": {
   "display_name": "Python 3 (ipykernel)",
   "language": "python",
   "name": "python3"
  },
  "language_info": {
   "codemirror_mode": {
    "name": "ipython",
    "version": 3
   },
   "file_extension": ".py",
   "mimetype": "text/x-python",
   "name": "python",
   "nbconvert_exporter": "python",
   "pygments_lexer": "ipython3",
   "version": "3.10.8"
  }
 },
 "nbformat": 4,
 "nbformat_minor": 5
}
