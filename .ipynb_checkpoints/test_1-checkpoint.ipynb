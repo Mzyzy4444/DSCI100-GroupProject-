{
 "cells": [
  {
   "cell_type": "code",
   "execution_count": 3,
   "id": "8e89a02c-65e7-4678-a63b-b4c4295b883d",
   "metadata": {},
   "outputs": [],
   "source": [
    "str=\"Hello\""
   ]
  },
  {
   "cell_type": "code",
   "execution_count": null,
   "id": "7b8de5f9-7a4b-49a7-9c40-6572be619f07",
   "metadata": {},
   "outputs": [],
   "source": []
  }
 ],
 "metadata": {
  "kernelspec": {
   "display_name": "",
   "name": ""
  },
  "language_info": {
   "name": ""
  }
 },
 "nbformat": 4,
 "nbformat_minor": 5
}
