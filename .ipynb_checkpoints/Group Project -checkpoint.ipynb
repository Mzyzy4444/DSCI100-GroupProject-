{
 "cells": [
  {
   "cell_type": "code",
   "execution_count": null,
   "id": "8e89a02c-65e7-4678-a63b-b4c4295b883d",
   "metadata": {},
   "outputs": [],
   "source": []
  }
 ],
 "metadata": {
  "kernelspec": {
   "display_name": "",
   "name": ""
  },
  "language_info": {
   "name": ""
  }
 },
 "nbformat": 4,
 "nbformat_minor": 5
}
