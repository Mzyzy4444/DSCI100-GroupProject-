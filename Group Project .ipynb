{
 "cells": [
  {
   "cell_type": "markdown",
   "id": "c762af97-1aac-4687-9626-65ac6ed2b8f4",
   "metadata": {},
   "source": [
    "**Wine Quality DataSet Prediction** "
   ]
  },
  {
   "cell_type": "code",
   "execution_count": null,
   "id": "4f319e99-b086-4fbd-bc91-aec5a6486832",
   "metadata": {},
   "outputs": [],
   "source": []
  }
 ],
 "metadata": {
  "kernelspec": {
   "display_name": "Python 3 (ipykernel)",
   "language": "python",
   "name": "python3"
  },
  "language_info": {
   "codemirror_mode": {
    "name": "ipython",
    "version": 3
   },
   "file_extension": ".py",
   "mimetype": "text/x-python",
   "name": "python",
   "nbconvert_exporter": "python",
   "pygments_lexer": "ipython3",
   "version": "3.10.8"
  }
 },
 "nbformat": 4,
 "nbformat_minor": 5
}
